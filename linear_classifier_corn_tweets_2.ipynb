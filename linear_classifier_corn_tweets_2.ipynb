{
 "cells": [
  {
   "cell_type": "code",
   "execution_count": 1,
   "metadata": {
    "collapsed": false
   },
   "outputs": [
    {
     "ename": "ImportError",
     "evalue": "No module named graphlab",
     "output_type": "error",
     "traceback": [
      "\u001b[0;31m---------------------------------------------------------------------------\u001b[0m",
      "\u001b[0;31mImportError\u001b[0m                               Traceback (most recent call last)",
      "\u001b[0;32m<ipython-input-1-7b251411add2>\u001b[0m in \u001b[0;36m<module>\u001b[0;34m()\u001b[0m\n\u001b[1;32m      1\u001b[0m \u001b[0;32mfrom\u001b[0m \u001b[0m__future__\u001b[0m \u001b[0;32mimport\u001b[0m \u001b[0mdivision\u001b[0m\u001b[0;34m\u001b[0m\u001b[0m\n\u001b[0;32m----> 2\u001b[0;31m \u001b[0;32mimport\u001b[0m \u001b[0mgraphlab\u001b[0m\u001b[0;34m\u001b[0m\u001b[0m\n\u001b[0m\u001b[1;32m      3\u001b[0m \u001b[0;32mimport\u001b[0m \u001b[0mmath\u001b[0m\u001b[0;34m\u001b[0m\u001b[0m\n\u001b[1;32m      4\u001b[0m \u001b[0;32mimport\u001b[0m \u001b[0mstring\u001b[0m\u001b[0;34m\u001b[0m\u001b[0m\n\u001b[1;32m      5\u001b[0m \u001b[0;32mimport\u001b[0m \u001b[0mnumpy\u001b[0m \u001b[0;32mas\u001b[0m \u001b[0mnp\u001b[0m\u001b[0;34m\u001b[0m\u001b[0m\n",
      "\u001b[0;31mImportError\u001b[0m: No module named graphlab"
     ]
    }
   ],
   "source": [
    "from __future__ import division\n",
    "import graphlab\n",
    "import math\n",
    "import string\n",
    "import numpy as np"
   ]
  },
  {
   "cell_type": "code",
   "execution_count": 2,
   "metadata": {
    "collapsed": false
   },
   "outputs": [
    {
     "ename": "AttributeError",
     "evalue": "'module' object has no attribute 'SFrame'",
     "output_type": "error",
     "traceback": [
      "\u001b[1;31m---------------------------------------------------------------------------\u001b[0m",
      "\u001b[1;31mAttributeError\u001b[0m                            Traceback (most recent call last)",
      "\u001b[1;32m<ipython-input-2-81d6b0271a7d>\u001b[0m in \u001b[0;36m<module>\u001b[1;34m()\u001b[0m\n\u001b[1;32m----> 1\u001b[1;33m \u001b[0mproducts\u001b[0m \u001b[1;33m=\u001b[0m \u001b[0mgraphlab\u001b[0m\u001b[1;33m.\u001b[0m\u001b[0mSFrame\u001b[0m\u001b[1;33m(\u001b[0m\u001b[1;34m'tweetclassifier1_13csv.csv'\u001b[0m\u001b[1;33m)\u001b[0m\u001b[1;33m\u001b[0m\u001b[0m\n\u001b[0m\u001b[0;32m      2\u001b[0m \u001b[1;33m\u001b[0m\u001b[0m\n\u001b[0;32m      3\u001b[0m \u001b[1;32mdef\u001b[0m \u001b[0mremove_punctuation\u001b[0m\u001b[1;33m(\u001b[0m\u001b[0mtext\u001b[0m\u001b[1;33m)\u001b[0m\u001b[1;33m:\u001b[0m\u001b[1;33m\u001b[0m\u001b[0m\n\u001b[0;32m      4\u001b[0m     \u001b[1;32mimport\u001b[0m \u001b[0mstring\u001b[0m\u001b[1;33m\u001b[0m\u001b[0m\n\u001b[0;32m      5\u001b[0m     \u001b[1;32mreturn\u001b[0m \u001b[0mtext\u001b[0m\u001b[1;33m.\u001b[0m\u001b[0mtranslate\u001b[0m\u001b[1;33m(\u001b[0m\u001b[0mNone\u001b[0m\u001b[1;33m,\u001b[0m \u001b[0mstring\u001b[0m\u001b[1;33m.\u001b[0m\u001b[0mpunctuation\u001b[0m\u001b[1;33m)\u001b[0m\u001b[1;33m\u001b[0m\u001b[0m\n",
      "\u001b[1;31mAttributeError\u001b[0m: 'module' object has no attribute 'SFrame'"
     ]
    }
   ],
   "source": [
    "products = graphlab.SFrame('tweetclassifier1_13csv.csv')\n",
    "\n",
    "def remove_punctuation(text):\n",
    "    import string\n",
    "    return text.translate(None, string.punctuation) \n",
    "\n",
    "review_without_puctuation = products['text'].apply(remove_punctuation)\n",
    "products['word_count'] = graphlab.text_analytics.count_words(review_without_puctuation)\n",
    "products = products[products['sentiment'] != 0]\n",
    "\n",
    "#print '# of positive reviews =', len(products[products['sentiment']==1])\n",
    "#print '# of negative reviews =', len(products[products['sentiment']==-1])\n",
    "\n",
    "train_data, test_data = products.random_split(.8, seed=1)\n",
    "print len(train_data)\n",
    "print len(test_data)\n",
    "\n",
    "def get_classification_accuracy(model, data, true_labels):\n",
    "    # First get the predictions\n",
    "    ## YOUR CODE HERE\n",
    "    predictions = model.predict(data)\n",
    "    correct_examples = []\n",
    "    # Compute the number of correctly classified examples\n",
    "    ## YOUR CODE HERE\n",
    "    for i in range(0,len(predictions)):\n",
    "        if predictions[i] != true_labels[i]: continue\n",
    "        else:\n",
    "            correct_examples.append(predictions[i])\n",
    "    # Then compute accuracy by dividing num_correct by total number of examples\n",
    "    ## YOUR CODE HERE\n",
    "    accuracy = len(correct_examples)/len(predictions)\n",
    "    \n",
    "    return accuracy"
   ]
  },
  {
   "cell_type": "code",
   "execution_count": 44,
   "metadata": {
    "collapsed": false
   },
   "outputs": [
    {
     "name": "stdout",
     "output_type": "stream",
     "text": [
      "# of positive reviews = 101\n",
      "# of negative reviews = 76\n"
     ]
    },
    {
     "data": {
      "text/html": [
       "<pre>Logistic regression:</pre>"
      ],
      "text/plain": [
       "Logistic regression:"
      ]
     },
     "metadata": {},
     "output_type": "display_data"
    },
    {
     "data": {
      "text/html": [
       "<pre>--------------------------------------------------------</pre>"
      ],
      "text/plain": [
       "--------------------------------------------------------"
      ]
     },
     "metadata": {},
     "output_type": "display_data"
    },
    {
     "data": {
      "text/html": [
       "<pre>Number of examples          : 781</pre>"
      ],
      "text/plain": [
       "Number of examples          : 781"
      ]
     },
     "metadata": {},
     "output_type": "display_data"
    },
    {
     "data": {
      "text/html": [
       "<pre>Number of classes           : 2</pre>"
      ],
      "text/plain": [
       "Number of classes           : 2"
      ]
     },
     "metadata": {},
     "output_type": "display_data"
    },
    {
     "data": {
      "text/html": [
       "<pre>Number of feature columns   : 1</pre>"
      ],
      "text/plain": [
       "Number of feature columns   : 1"
      ]
     },
     "metadata": {},
     "output_type": "display_data"
    },
    {
     "data": {
      "text/html": [
       "<pre>Number of unpacked features : 13</pre>"
      ],
      "text/plain": [
       "Number of unpacked features : 13"
      ]
     },
     "metadata": {},
     "output_type": "display_data"
    },
    {
     "data": {
      "text/html": [
       "<pre>Number of coefficients    : 14</pre>"
      ],
      "text/plain": [
       "Number of coefficients    : 14"
      ]
     },
     "metadata": {},
     "output_type": "display_data"
    },
    {
     "data": {
      "text/html": [
       "<pre>Starting Newton Method</pre>"
      ],
      "text/plain": [
       "Starting Newton Method"
      ]
     },
     "metadata": {},
     "output_type": "display_data"
    },
    {
     "data": {
      "text/html": [
       "<pre>--------------------------------------------------------</pre>"
      ],
      "text/plain": [
       "--------------------------------------------------------"
      ]
     },
     "metadata": {},
     "output_type": "display_data"
    },
    {
     "data": {
      "text/html": [
       "<pre>+-----------+----------+--------------+-------------------+</pre>"
      ],
      "text/plain": [
       "+-----------+----------+--------------+-------------------+"
      ]
     },
     "metadata": {},
     "output_type": "display_data"
    },
    {
     "data": {
      "text/html": [
       "<pre>| Iteration | Passes   | Elapsed Time | Training-accuracy |</pre>"
      ],
      "text/plain": [
       "| Iteration | Passes   | Elapsed Time | Training-accuracy |"
      ]
     },
     "metadata": {},
     "output_type": "display_data"
    },
    {
     "data": {
      "text/html": [
       "<pre>+-----------+----------+--------------+-------------------+</pre>"
      ],
      "text/plain": [
       "+-----------+----------+--------------+-------------------+"
      ]
     },
     "metadata": {},
     "output_type": "display_data"
    },
    {
     "data": {
      "text/html": [
       "<pre>| 1         | 2        | 0.002002     | 0.650448          |</pre>"
      ],
      "text/plain": [
       "| 1         | 2        | 0.002002     | 0.650448          |"
      ]
     },
     "metadata": {},
     "output_type": "display_data"
    },
    {
     "data": {
      "text/html": [
       "<pre>| 2         | 3        | 0.004004     | 0.650448          |</pre>"
      ],
      "text/plain": [
       "| 2         | 3        | 0.004004     | 0.650448          |"
      ]
     },
     "metadata": {},
     "output_type": "display_data"
    },
    {
     "data": {
      "text/html": [
       "<pre>| 3         | 4        | 0.006006     | 0.650448          |</pre>"
      ],
      "text/plain": [
       "| 3         | 4        | 0.006006     | 0.650448          |"
      ]
     },
     "metadata": {},
     "output_type": "display_data"
    },
    {
     "data": {
      "text/html": [
       "<pre>+-----------+----------+--------------+-------------------+</pre>"
      ],
      "text/plain": [
       "+-----------+----------+--------------+-------------------+"
      ]
     },
     "metadata": {},
     "output_type": "display_data"
    },
    {
     "data": {
      "text/html": [
       "<pre>SUCCESS: Optimal solution found.</pre>"
      ],
      "text/plain": [
       "SUCCESS: Optimal solution found."
      ]
     },
     "metadata": {},
     "output_type": "display_data"
    },
    {
     "data": {
      "text/html": [
       "<pre></pre>"
      ],
      "text/plain": []
     },
     "metadata": {},
     "output_type": "display_data"
    },
    {
     "name": "stdout",
     "output_type": "stream",
     "text": [
      "+-------------------+------------+-------+-----------------+----------------+\n",
      "|        name       |   index    | class |      value      |     stderr     |\n",
      "+-------------------+------------+-------+-----------------+----------------+\n",
      "| word_count_subset |    bull    |   1   |  0.895578731796 | 0.467227114233 |\n",
      "| word_count_subset |   bears    |   1   |  0.699800350602 | 0.367294254146 |\n",
      "| word_count_subset |    rise    |   1   |  0.600926205321 | 0.381322070839 |\n",
      "| word_count_subset | resistance |   1   |  0.565388747883 | 0.438566399202 |\n",
      "| word_count_subset |   bulls    |   1   |  0.524241363912 | 0.48509505703  |\n",
      "| word_count_subset |  bullish   |   1   |  0.404954311586 | 0.235019350381 |\n",
      "| word_count_subset |    bear    |   1   |  0.358270581171 | 0.378234348215 |\n",
      "| word_count_subset |   rally    |   1   |  0.342079041239 | 0.285565606358 |\n",
      "| word_count_subset |  decline   |   1   |  0.296166966125 | 0.59998695973  |\n",
      "|    (intercept)    |    None    |   1   | 0.0851344775123 | 0.255991125758 |\n",
      "| word_count_subset |   lower    |   1   | -0.277783400319 | 0.700630294767 |\n",
      "| word_count_subset |  bearish   |   1   | -0.519092574536 | 0.266984495582 |\n",
      "| word_count_subset |  support   |   1   | -0.711054033543 | 0.281948392412 |\n",
      "| word_count_subset |   higher   |   1   |  -1.22639771274 | 1.35523483992  |\n",
      "+-------------------+------------+-------+-----------------+----------------+\n",
      "[14 rows x 5 columns]\n",
      "\n"
     ]
    }
   ],
   "source": [
    "significant_words = ['bullish', 'bearish', 'rally', 'bears', 'bulls', 'bull', 'bear', 'decline', \n",
    "                    'rise', 'support', 'resistance', 'higher', 'lower']\n",
    "\n",
    "train_data['word_count_subset'] = train_data['word_count'].dict_trim_by_keys(significant_words, exclude=False)\n",
    "test_data['word_count_subset'] = test_data['word_count'].dict_trim_by_keys(significant_words, exclude=False)\n",
    "\n",
    "print '# of positive reviews =', len(test_data[test_data['sentiment']==1])\n",
    "print '# of negative reviews =', len(test_data[test_data['sentiment']==-1])\n",
    "\n",
    "#test_data = test_data[test_data['word_count_subset'] != {}]\n",
    "#train_data = train_data[train_data['word_count_subset'] != {}]\n",
    "\n",
    "\n",
    "simple_model = graphlab.logistic_classifier.create(train_data,\n",
    "                                                   target = 'sentiment',\n",
    "                                                   features=['word_count_subset'],\n",
    "                                                   validation_set=None)\n",
    "simple_model\n",
    "\n",
    "get_classification_accuracy(simple_model, test_data, test_data['sentiment'])\n",
    "simple_model.coefficients\n",
    "simple_model.coefficients.sort('value', ascending=False).print_rows(num_rows=21)"
   ]
  },
  {
   "cell_type": "code",
   "execution_count": 39,
   "metadata": {
    "collapsed": false
   },
   "outputs": [
    {
     "name": "stdout",
     "output_type": "stream",
     "text": [
      "[-0.6259195560304072, 0.42721351875110486, 0.4900887890984375, 0.6505232253953458, 0.6505232253953458, 0.4900887890984375, 0.4900887890984375, 0.42721351875110486, 0.6505232253953458, 0.4434050586829224, 0.3813014436368259, -0.6259195560304072, 0.686060682833728, 0.6505232253953458, 0.6505232253953458, -0.02900378543722755, -0.6259195560304072, -0.6259195560304072, -0.02900378543722755, 0.42721351875110486, 0.4900887890984375, 0.42721351875110486, 0.4900887890984375, 0.4900887890984375, -0.4339580970233631, 0.4900887890984375, 0.4900887890984375, -0.4339580970233631, 0.4900887890984375, 0.6505232253953458, -0.6259195560304072, 0.9807132093087724, -0.6259195560304072, -0.6259195560304072, 0.4900887890984375, -0.6259195560304072, -0.6259195560304072, -0.6259195560304072, -0.6259195560304072, -0.6259195560304072, 0.9807132093087724, -0.6259195560304072, 0.42721351875110486, 0.4434050586829224, -0.6259195560304072, 0.9807132093087724, 0.4900887890984375, 0.4434050586829224, 0.4434050586829224, 0.4434050586829224, 0.4900887890984375, -0.6259195560304072, 0.4434050586829224, 0.686060682833728, 0.9807132093087724, -0.6259195560304072, 0.8321678303372404, 0.42721351875110486, -0.4339580970233631, 0.4434050586829224, 0.6505232253953458, 0.4900887890984375, 0.6505232253953458, 0.6505232253953458, 0.42721351875110486, -0.4339580970233631, 0.686060682833728, 1.3091761920269407, -0.4339580970233631, 0.6093758414245133, -0.4339580970233631, -1.660355809761629, 0.4900887890984375, -0.9530506715590281, 0.3813014436368259, 0.31307525580157536, 0.31307525580157536, 0.686060682833728, -0.4339580970233631, -0.4339580970233631, -1.1450121305660723, -0.6259195560304072, -0.6259195560304072, 1.3091761920269407, 0.4900887890984375, 0.4900887890984375, 0.4900887890984375, 0.7849348281147293, -0.6259195560304072, -0.4339580970233631, -0.4339580970233631, -0.6259195560304072, 0.7849348281147293, -0.6259195560304072, 0.6505232253953458, -0.6259195560304072, 0.686060682833728, 0.4434050586829224, -0.6259195560304072, -0.6259195560304072, ... ]\n",
      "[-1.  1.  1.  1.  1.  1.  1.  1.  1.  1.  1. -1.  1.  1.  1. -1. -1. -1.\n",
      " -1.  1.  1.  1.  1.  1. -1.  1.  1. -1.  1.  1. -1.  1. -1. -1.  1. -1.\n",
      " -1. -1. -1. -1.  1. -1.  1.  1. -1.  1.  1.  1.  1.  1.  1. -1.  1.  1.\n",
      "  1. -1.  1.  1. -1.  1.  1.  1.  1.  1.  1. -1.  1.  1. -1.  1. -1. -1.\n",
      "  1. -1.  1.  1.  1.  1. -1. -1. -1. -1. -1.  1.  1.  1.  1.  1. -1. -1.\n",
      " -1. -1.  1. -1.  1. -1.  1.  1. -1. -1. -1.  1. -1. -1. -1.  1. -1. -1.\n",
      " -1.  1.  1. -1. -1.  1. -1. -1. -1.  1.  1.  1.  1.  1.  1.  1.  1.  1.\n",
      " -1.  1.  1.  1.  1.  1.  1.  1. -1.  1.  1. -1. -1. -1.  1.  1. -1.  1.\n",
      "  1.  1.  1. -1. -1.  1. -1. -1.  1. -1. -1. -1. -1.  1. -1. -1.  1. -1.\n",
      " -1. -1. -1. -1. -1. -1. -1.  1. -1. -1. -1. -1. -1. -1.  1.]\n"
     ]
    }
   ],
   "source": [
    "scores = simple_model.predict(test_data, output_type='margin')\n",
    "print scores\n",
    "ytag = np.sign(scores)\n",
    "print ytag"
   ]
  },
  {
   "cell_type": "code",
   "execution_count": 40,
   "metadata": {
    "collapsed": false
   },
   "outputs": [
    {
     "name": "stdout",
     "output_type": "stream",
     "text": [
      "+----------------+-------------------------------+\n",
      "| relative_index |              text             |\n",
      "+----------------+-------------------------------+\n",
      "|     11144      | #usda bears are happy, bul... |\n",
      "|     26049      | I think it's about time to... |\n",
      "|     12684      | @glen_newcomer At first gl... |\n",
      "|     30112      | RT @KelseyStanger: \"I will... |\n",
      "|      9965      |  Two corn dogs and a red bull |\n",
      "|     25298      | Tom &amp; jerry + pop corn... |\n",
      "|     25294      |   @ktbug51 your bull corn ??  |\n",
      "|     29133      | RT @Agrimoney: Soybean fut... |\n",
      "|     10977      | RT @NaijaNupe_: Doesn't ea... |\n",
      "|      8928      | RT @ShawneeState: Lots of ... |\n",
      "+----------------+-------------------------------+\n",
      "+--------------------------------+--------------+-----------+\n",
      "|              time              | prct_change  | sentiment |\n",
      "+--------------------------------+--------------+-----------+\n",
      "| Fri Aug 12 16:17:14 +0000 2016 | -0.313479624 |     -1    |\n",
      "| Fri Aug 12 23:42:14 +0000 2016 | 1.160990712  |     1     |\n",
      "| Wed Jul 27 18:29:23 +0000 2016 | 0.446096654  |     1     |\n",
      "| Thu Jul 28 06:14:01 +0000 2016 | -0.147928994 |     -1    |\n",
      "| Wed Aug 10 15:44:46 +0000 2016 | 0.077220077  |     1     |\n",
      "| Wed Aug 10 23:35:30 +0000 2016 | -0.620155039 |     -1    |\n",
      "| Thu Aug 25 02:21:40 +0000 2016 |   0.074184   |     1     |\n",
      "| Thu Aug 11 01:21:23 +0000 2016 | 0.077459334  |     1     |\n",
      "| Tue Sep 13 17:46:56 +0000 2016 |   -0.30257   |     -1    |\n",
      "| Fri Sep 09 15:17:13 +0000 2016 |   0.221402   |     1     |\n",
      "+--------------------------------+--------------+-----------+\n",
      "+-------------------------------+------------------------------+------------------------+\n",
      "|           word_count          |      word_count_subset       | probability_prediction |\n",
      "+-------------------------------+------------------------------+------------------------+\n",
      "| {'and': 1L, 'report\\x85htt... |  {'bears': 1L, 'bulls': 1L}  |     0.787375270343     |\n",
      "| {'about': 1L, 'crap': 1L, ... |  {'bears': 1L, 'bulls': 1L}  |     0.787375270343     |\n",
      "| {'burying': 1L, 'at': 1L, ... |         {'bull': 1L}         |     0.727249709733     |\n",
      "| {'rt': 1L, 'and': 1L, 'cor... |         {'bull': 1L}         |     0.727249709733     |\n",
      "| {'a': 1L, 'and': 1L, 'corn... |         {'bull': 1L}         |     0.727249709733     |\n",
      "| {'corn': 1L, 'tom': 1L, 'j... |         {'bull': 1L}         |     0.727249709733     |\n",
      "| {'corn': 1L, 'ktbug51': 1L... |         {'bull': 1L}         |     0.727249709733     |\n",
      "| {'rt': 1L, 'httpstc\\x85': ... | {'rally': 1L, 'bullish': 1L} |     0.696813110938     |\n",
      "| {'rt': 1L, '25': 1L, 'gumm... |        {'bears': 1L}         |     0.686742706572     |\n",
      "| {'rt': 1L, 'this': 1L, 'ti... |        {'bears': 1L}         |     0.686742706572     |\n",
      "+-------------------------------+------------------------------+------------------------+\n",
      "[20 rows x 8 columns]\n",
      "Note: Only the head of the SFrame is printed.\n",
      "You can use print_rows(num_rows=m, num_columns=n) to print more rows and columns.\n"
     ]
    }
   ],
   "source": [
    "test_data['probability_prediction']=simple_model.predict(test_data, output_type='probability')\n",
    "top20 = test_data.topk('probability_prediction', k=20)\n",
    "#print top20.column_names()\n",
    "print top20[0:20]"
   ]
  },
  {
   "cell_type": "code",
   "execution_count": 41,
   "metadata": {
    "collapsed": false
   },
   "outputs": [
    {
     "name": "stdout",
     "output_type": "stream",
     "text": [
      "@glen_newcomer At first glance, looked like you were burying someone in that corn field. A grave big enough for the last corn bull.\n"
     ]
    }
   ],
   "source": [
    "print top20[2]['text']"
   ]
  },
  {
   "cell_type": "code",
   "execution_count": null,
   "metadata": {
    "collapsed": true
   },
   "outputs": [],
   "source": []
  }
 ],
 "metadata": {
  "anaconda-cloud": {},
  "kernelspec": {
   "display_name": "Python [default]",
   "language": "python",
   "name": "python2"
  },
  "language_info": {
   "codemirror_mode": {
    "name": "ipython",
    "version": 2
   },
   "file_extension": ".py",
   "mimetype": "text/x-python",
   "name": "python",
   "nbconvert_exporter": "python",
   "pygments_lexer": "ipython2",
   "version": "2.7.12"
  }
 },
 "nbformat": 4,
 "nbformat_minor": 0
}
