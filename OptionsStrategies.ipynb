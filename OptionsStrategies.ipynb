{
 "cells": [
  {
   "cell_type": "code",
   "execution_count": 102,
   "metadata": {
    "collapsed": true
   },
   "outputs": [],
   "source": [
    "import mibian\n",
    "import pandas as pd\n",
    "import numpy as np\n",
    "import random"
   ]
  },
  {
   "cell_type": "code",
   "execution_count": 76,
   "metadata": {
    "collapsed": false
   },
   "outputs": [],
   "source": [
    "class Strategy(object):\n",
    "    \n",
    "    interestRate = 0.5\n",
    "    \n",
    "    def __init__(self, underPrice, Strike1, Strike2, Strike3, Strike4, days, impVol1, impVol2, impVol3, impVol4):\n",
    "        self.underPrice = underPrice\n",
    "        self.Strike1 = Strike1\n",
    "        self.Strike2 = Strike2\n",
    "        self.Strike3 = Strike3\n",
    "        self.Strike4 = Strike4\n",
    "        self.days = days\n",
    "        self.impVol1 = impVol1\n",
    "        self.impVol2 = impVol2\n",
    "        self.impVol3 = impVol3\n",
    "        self.impVol4 = impVol4"
   ]
  },
  {
   "cell_type": "code",
   "execution_count": 77,
   "metadata": {
    "collapsed": true
   },
   "outputs": [],
   "source": [
    "class volStrategy(Strategy):\n",
    "    \n",
    "    def __init__(self, stype):\n",
    "        self.ftype = stype\n",
    "\n",
    "    def straddle(underPrice, Strike, days, impVol):\n",
    "        leg = mibian.BS([underPrice, Strike, Strategy.interestRate, days], volatility = impVol)\n",
    "        return leg.callPrice + leg.putPrice\n",
    "\n",
    "    def strangle(underPrice, Strike1, Strike2, days, impVol1, impVol2):\n",
    "        leg1 = mibian.BS([underPrice, Strike1, Strategy.interestRate, days], volatility = impVol1)\n",
    "        leg2 = mibian.BS([underPrice, Strike2, Strategy.interestRate, days], volatility = impVol2)\n",
    "        if Strike1 >= Strike2:\n",
    "            return leg1.callPrice + leg2.putPrice\n",
    "        else:\n",
    "            return leg1.putPrice + leg2.callPrice"
   ]
  },
  {
   "cell_type": "code",
   "execution_count": 90,
   "metadata": {
    "collapsed": false
   },
   "outputs": [],
   "source": [
    "class statStrategy(Strategy):\n",
    "    \n",
    "    def __init__(self, stype):\n",
    "        self.ftype = stype\n",
    "    \n",
    "    def leverage():\n",
    "        return self - (Strategy.Strike1 - Strategy.Strike2) \n",
    "                \n",
    "        "
   ]
  },
  {
   "cell_type": "code",
   "execution_count": 79,
   "metadata": {
    "collapsed": true
   },
   "outputs": [],
   "source": [
    "class spread(statStrategy):\n",
    "    \n",
    "    def __init__(self, ftype):\n",
    "        self.ftype = ftype\n",
    "        \n",
    "    def callSpread(underPrice, Strike1, Strike2, days, impVol1, impVol2):\n",
    "        leg1 = mibian.BS([underPrice, Strike1, Strategy.interestRate, days], volatility = impVol1)\n",
    "        leg2 = mibian.BS([underPrice, Strike2, Strategy.interestRate, days], volatility = impVol2)\n",
    "        return abs(leg1.callPrice - leg2.callPrice)\n",
    "    \n",
    "    def putSpread(underPrice, Strike1, Strike2, days, impVol1, impVol2):\n",
    "        leg1 = mibian.BS([underPrice, Strike1, Strategy.interestRate, days], volatility = impVol1)\n",
    "        leg2 = mibian.BS([underPrice, Strike2, Strategy.interestRate, days], volatility = impVol2)\n",
    "        return abs(leg1.putPrice - leg2.putPrice)"
   ]
  },
  {
   "cell_type": "code",
   "execution_count": 80,
   "metadata": {
    "collapsed": false
   },
   "outputs": [],
   "source": [
    "class fly(statStrategy):\n",
    "\n",
    "    def __init__(self, ftype):\n",
    "        self.ftype = ftype       \n",
    "            \n",
    "    def atmFly(underPrice, Strike1, Strike2, Strike3, days, impVol1, impVol2, impVol3):\n",
    "        \n",
    "        leg1 = mibian.BS([underPrice, Strike1, Strategy.interestRate, days], volatility = impVol1)\n",
    "        leg2 = mibian.BS([underPrice, Strike2, Strategy.interestRate, days], volatility = impVol2)\n",
    "        leg3 = mibian.BS([underPrice, Strike3, Strategy.interestRate, days], volatility = impVol3)\n",
    "        \n",
    "        if Strike1 >= Strike3:\n",
    "            return leg1.callPrice + leg3.putPrice - (leg2.callPrice + leg2.putPrice)\n",
    "        else:\n",
    "            return leg1.putPrice + leg3.callPrice - (leg2.callPrice + leg2.putPrice)\n",
    "        \n",
    "    def callFly(underPrice, Strike1, Strike2, Strike3, days, impVol1, impVol2, impVol3):\n",
    "    \n",
    "        leg1 = mibian.BS([underPrice, Strike1, Strategy.interestRate, days], volatility = impVol1)\n",
    "        leg2 = mibian.BS([underPrice, Strike2, Strategy.interestRate, days], volatility = impVol2)\n",
    "        leg3 = mibian.BS([underPrice, Strike3, Strategy.interestRate, days], volatility = impVol3)\n",
    "        \n",
    "        return leg1.callPrice + leg3.callPrice - 2*leg2.callPrice\n",
    "    \n",
    "    def putFly(underPrice, Strike1, Strike2, Strike3, days, impVol1, impVol2, impVol3):\n",
    "    \n",
    "        leg1 = mibian.BS([underPrice, Strike1, Strategy.interestRate, days], volatility = impVol1)\n",
    "        leg2 = mibian.BS([underPrice, Strike2, Strategy.interestRate, days], volatility = impVol2)\n",
    "        leg3 = mibian.BS([underPrice, Strike3, Strategy.interestRate, days], volatility = impVol3)\n",
    "        \n",
    "        return leg1.putPrice + leg3.putPrice - 2*leg2.putPrice       \n",
    "    "
   ]
  },
  {
   "cell_type": "code",
   "execution_count": 81,
   "metadata": {
    "collapsed": false
   },
   "outputs": [],
   "source": [
    "class condor(statStrategy):\n",
    "    \n",
    "    def __init__(self, ftype):\n",
    "        self.ftype = ftype       \n",
    "            \n",
    "    def atmCondor(underPrice, Strike1, Strike2, Strike3, Strike4, \n",
    "             days, impVol1, impVol2, impVol3, impVol4):\n",
    "        \n",
    "        return volStrategy.strangle(underPrice, Strike1, Strike4, days, impVol1,\n",
    "                                    impVol4) - volStrategy.strangle(underPrice, Strike2, Strike3, \n",
    "                                                                    days, impVol2, impVol3) \n",
    "        \n",
    "    def callCondor(underPrice, Strike1, Strike2, Strike3, Strike4, \n",
    "                   days, impVol1, impVol2, impVol3, impVol4):\n",
    "    \n",
    "        leg1 = mibian.BS([underPrice, Strike1, Strategy.interestRate, days], volatility = impVol1)\n",
    "        leg2 = mibian.BS([underPrice, Strike2, Strategy.interestRate, days], volatility = impVol2)\n",
    "        leg3 = mibian.BS([underPrice, Strike3, Strategy.interestRate, days], volatility = impVol3)\n",
    "        leg4 = mibian.BS([underPrice, Strike4, Strategy.interestRate, days], volatility = impVol4)\n",
    "        \n",
    "        return leg1.callPrice + leg3.callPrice - leg2.callPrice - leg4.callPrice\n",
    "    \n",
    "    def putCondor(underPrice, Strike1, Strike2, Strike3, Strike4, \n",
    "                  days, impVol1, impVol2, impVol3, impVol4):\n",
    "    \n",
    "        leg1 = mibian.BS([underPrice, Strike1, Strategy.interestRate, days], volatility = impVol1)\n",
    "        leg2 = mibian.BS([underPrice, Strike2, Strategy.interestRate, days], volatility = impVol2)\n",
    "        leg3 = mibian.BS([underPrice, Strike3, Strategy.interestRate, days], volatility = impVol3)\n",
    "        leg4 = mibian.BS([underPrice, Strike4, Strategy.interestRate, days], volatility = impVol4)\n",
    "        \n",
    "        return leg1.putPrice + leg3.putPrice - leg2.putPrice - leg4.putPrice"
   ]
  },
  {
   "cell_type": "code",
   "execution_count": 197,
   "metadata": {
    "collapsed": false
   },
   "outputs": [
    {
     "data": {
      "text/plain": [
       "(100,)"
      ]
     },
     "execution_count": 197,
     "metadata": {},
     "output_type": "execute_result"
    }
   ],
   "source": [
    "price = 342.75\n",
    "ndays = 30\n",
    "nreps = 100\n",
    "plong = 0.47\n",
    "pshort = 0.49\n",
    "maglong = 1.1\n",
    "maglong_cents = price/100*maglong\n",
    "magshort = 0.9\n",
    "magshort_cents = -price/100*magshort\n",
    "nmatrix = (ndays, nreps)\n",
    "simarray = np.ones(nmatrix)\n",
    "simfloat = np.apply_along_axis(lambda x: random.random(), 0, simarray)\n",
    "simfloat.shape"
   ]
  },
  {
   "cell_type": "code",
   "execution_count": 200,
   "metadata": {
    "collapsed": false
   },
   "outputs": [
    {
     "data": {
      "text/plain": [
       "(30, 100)"
      ]
     },
     "execution_count": 200,
     "metadata": {},
     "output_type": "execute_result"
    }
   ],
   "source": [
    "for i in range(ndays):    \n",
    "    simarray[i] = np.apply_along_axis(lambda x: random.random(), 0, simarray[i])\n",
    "simarray.shape"
   ]
  },
  {
   "cell_type": "code",
   "execution_count": 220,
   "metadata": {
    "collapsed": false
   },
   "outputs": [],
   "source": [
    "for i in range(ndays):\n",
    "    for n in range(ndays):\n",
    "        if simarray[n, i] >= plong:\n",
    "            simarray[n, i] = maglong_cents\n",
    "        elif simarray[n, i] <= pshort:\n",
    "            simarray[n, i] = magshort_cents\n",
    "        else:\n",
    "            simarray[n, i] = 0\n",
    "    #simarray[i] = np.cumsum(simarray)"
   ]
  },
  {
   "cell_type": "code",
   "execution_count": 221,
   "metadata": {
    "collapsed": false
   },
   "outputs": [],
   "source": [
    "simprices = pd.DataFrame(simarray)"
   ]
  },
  {
   "cell_type": "code",
   "execution_count": 223,
   "metadata": {
    "collapsed": false
   },
   "outputs": [
    {
     "data": {
      "text/html": [
       "<div>\n",
       "<table border=\"1\" class=\"dataframe\">\n",
       "  <thead>\n",
       "    <tr style=\"text-align: right;\">\n",
       "      <th></th>\n",
       "      <th>0</th>\n",
       "      <th>1</th>\n",
       "      <th>2</th>\n",
       "      <th>3</th>\n",
       "      <th>4</th>\n",
       "      <th>5</th>\n",
       "      <th>6</th>\n",
       "      <th>7</th>\n",
       "      <th>8</th>\n",
       "      <th>9</th>\n",
       "      <th>...</th>\n",
       "      <th>90</th>\n",
       "      <th>91</th>\n",
       "      <th>92</th>\n",
       "      <th>93</th>\n",
       "      <th>94</th>\n",
       "      <th>95</th>\n",
       "      <th>96</th>\n",
       "      <th>97</th>\n",
       "      <th>98</th>\n",
       "      <th>99</th>\n",
       "    </tr>\n",
       "  </thead>\n",
       "  <tbody>\n",
       "    <tr>\n",
       "      <th>25</th>\n",
       "      <td>3.77025</td>\n",
       "      <td>3.77025</td>\n",
       "      <td>3.77025</td>\n",
       "      <td>3.77025</td>\n",
       "      <td>3.77025</td>\n",
       "      <td>3.77025</td>\n",
       "      <td>3.77025</td>\n",
       "      <td>3.77025</td>\n",
       "      <td>3.77025</td>\n",
       "      <td>3.77025</td>\n",
       "      <td>...</td>\n",
       "      <td>343.09275</td>\n",
       "      <td>346.863</td>\n",
       "      <td>350.63325</td>\n",
       "      <td>354.4035</td>\n",
       "      <td>358.17375</td>\n",
       "      <td>361.944</td>\n",
       "      <td>365.71425</td>\n",
       "      <td>369.4845</td>\n",
       "      <td>373.25475</td>\n",
       "      <td>377.025</td>\n",
       "    </tr>\n",
       "    <tr>\n",
       "      <th>26</th>\n",
       "      <td>-3.08475</td>\n",
       "      <td>-3.08475</td>\n",
       "      <td>-3.08475</td>\n",
       "      <td>-3.08475</td>\n",
       "      <td>-3.08475</td>\n",
       "      <td>-3.08475</td>\n",
       "      <td>-3.08475</td>\n",
       "      <td>-3.08475</td>\n",
       "      <td>-3.08475</td>\n",
       "      <td>-3.08475</td>\n",
       "      <td>...</td>\n",
       "      <td>-280.71225</td>\n",
       "      <td>-283.797</td>\n",
       "      <td>-286.88175</td>\n",
       "      <td>-289.9665</td>\n",
       "      <td>-293.05125</td>\n",
       "      <td>-296.136</td>\n",
       "      <td>-299.22075</td>\n",
       "      <td>-302.3055</td>\n",
       "      <td>-305.39025</td>\n",
       "      <td>-308.475</td>\n",
       "    </tr>\n",
       "    <tr>\n",
       "      <th>27</th>\n",
       "      <td>-3.08475</td>\n",
       "      <td>-3.08475</td>\n",
       "      <td>-3.08475</td>\n",
       "      <td>-3.08475</td>\n",
       "      <td>-3.08475</td>\n",
       "      <td>-3.08475</td>\n",
       "      <td>-3.08475</td>\n",
       "      <td>-3.08475</td>\n",
       "      <td>-3.08475</td>\n",
       "      <td>-3.08475</td>\n",
       "      <td>...</td>\n",
       "      <td>-280.71225</td>\n",
       "      <td>-283.797</td>\n",
       "      <td>-286.88175</td>\n",
       "      <td>-289.9665</td>\n",
       "      <td>-293.05125</td>\n",
       "      <td>-296.136</td>\n",
       "      <td>-299.22075</td>\n",
       "      <td>-302.3055</td>\n",
       "      <td>-305.39025</td>\n",
       "      <td>-308.475</td>\n",
       "    </tr>\n",
       "    <tr>\n",
       "      <th>28</th>\n",
       "      <td>3.77025</td>\n",
       "      <td>3.77025</td>\n",
       "      <td>3.77025</td>\n",
       "      <td>3.77025</td>\n",
       "      <td>3.77025</td>\n",
       "      <td>3.77025</td>\n",
       "      <td>3.77025</td>\n",
       "      <td>3.77025</td>\n",
       "      <td>3.77025</td>\n",
       "      <td>3.77025</td>\n",
       "      <td>...</td>\n",
       "      <td>343.09275</td>\n",
       "      <td>346.863</td>\n",
       "      <td>350.63325</td>\n",
       "      <td>354.4035</td>\n",
       "      <td>358.17375</td>\n",
       "      <td>361.944</td>\n",
       "      <td>365.71425</td>\n",
       "      <td>369.4845</td>\n",
       "      <td>373.25475</td>\n",
       "      <td>377.025</td>\n",
       "    </tr>\n",
       "    <tr>\n",
       "      <th>29</th>\n",
       "      <td>-3.08475</td>\n",
       "      <td>-3.08475</td>\n",
       "      <td>-3.08475</td>\n",
       "      <td>-3.08475</td>\n",
       "      <td>-3.08475</td>\n",
       "      <td>-3.08475</td>\n",
       "      <td>-3.08475</td>\n",
       "      <td>-3.08475</td>\n",
       "      <td>-3.08475</td>\n",
       "      <td>-3.08475</td>\n",
       "      <td>...</td>\n",
       "      <td>-280.71225</td>\n",
       "      <td>-283.797</td>\n",
       "      <td>-286.88175</td>\n",
       "      <td>-289.9665</td>\n",
       "      <td>-293.05125</td>\n",
       "      <td>-296.136</td>\n",
       "      <td>-299.22075</td>\n",
       "      <td>-302.3055</td>\n",
       "      <td>-305.39025</td>\n",
       "      <td>-308.475</td>\n",
       "    </tr>\n",
       "  </tbody>\n",
       "</table>\n",
       "<p>5 rows × 100 columns</p>\n",
       "</div>"
      ],
      "text/plain": [
       "         0        1        2        3        4        5        6        7   \\\n",
       "25  3.77025  3.77025  3.77025  3.77025  3.77025  3.77025  3.77025  3.77025   \n",
       "26 -3.08475 -3.08475 -3.08475 -3.08475 -3.08475 -3.08475 -3.08475 -3.08475   \n",
       "27 -3.08475 -3.08475 -3.08475 -3.08475 -3.08475 -3.08475 -3.08475 -3.08475   \n",
       "28  3.77025  3.77025  3.77025  3.77025  3.77025  3.77025  3.77025  3.77025   \n",
       "29 -3.08475 -3.08475 -3.08475 -3.08475 -3.08475 -3.08475 -3.08475 -3.08475   \n",
       "\n",
       "         8        9    ...            90       91         92        93  \\\n",
       "25  3.77025  3.77025   ...     343.09275  346.863  350.63325  354.4035   \n",
       "26 -3.08475 -3.08475   ...    -280.71225 -283.797 -286.88175 -289.9665   \n",
       "27 -3.08475 -3.08475   ...    -280.71225 -283.797 -286.88175 -289.9665   \n",
       "28  3.77025  3.77025   ...     343.09275  346.863  350.63325  354.4035   \n",
       "29 -3.08475 -3.08475   ...    -280.71225 -283.797 -286.88175 -289.9665   \n",
       "\n",
       "           94       95         96        97         98       99  \n",
       "25  358.17375  361.944  365.71425  369.4845  373.25475  377.025  \n",
       "26 -293.05125 -296.136 -299.22075 -302.3055 -305.39025 -308.475  \n",
       "27 -293.05125 -296.136 -299.22075 -302.3055 -305.39025 -308.475  \n",
       "28  358.17375  361.944  365.71425  369.4845  373.25475  377.025  \n",
       "29 -293.05125 -296.136 -299.22075 -302.3055 -305.39025 -308.475  \n",
       "\n",
       "[5 rows x 100 columns]"
      ]
     },
     "execution_count": 223,
     "metadata": {},
     "output_type": "execute_result"
    }
   ],
   "source": [
    "simprices.tail()"
   ]
  },
  {
   "cell_type": "code",
   "execution_count": null,
   "metadata": {
    "collapsed": true
   },
   "outputs": [],
   "source": []
  }
 ],
 "metadata": {
  "anaconda-cloud": {},
  "kernelspec": {
   "display_name": "Python [conda root]",
   "language": "python",
   "name": "conda-root-py"
  },
  "language_info": {
   "codemirror_mode": {
    "name": "ipython",
    "version": 3
   },
   "file_extension": ".py",
   "mimetype": "text/x-python",
   "name": "python",
   "nbconvert_exporter": "python",
   "pygments_lexer": "ipython3",
   "version": "3.5.2"
  }
 },
 "nbformat": 4,
 "nbformat_minor": 1
}
