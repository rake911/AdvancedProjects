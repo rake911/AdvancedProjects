{
 "cells": [
  {
   "cell_type": "code",
   "execution_count": 1,
   "metadata": {
    "collapsed": true
   },
   "outputs": [],
   "source": [
    "import mibian\n",
    "import pandas as pd\n",
    "import numpy as np\n",
    "import random"
   ]
  },
  {
   "cell_type": "code",
   "execution_count": 2,
   "metadata": {
    "collapsed": false
   },
   "outputs": [],
   "source": [
    "class Strategy(object):\n",
    "    \n",
    "    interestRate = 0.5\n",
    "    \n",
    "    def __init__(self, underPrice, Strike1, Strike2, Strike3, Strike4, days, impVol1, impVol2, impVol3, impVol4):\n",
    "        self.underPrice = underPrice\n",
    "        self.Strike1 = Strike1\n",
    "        self.Strike2 = Strike2\n",
    "        self.Strike3 = Strike3\n",
    "        self.Strike4 = Strike4\n",
    "        self.days = days\n",
    "        self.impVol1 = impVol1\n",
    "        self.impVol2 = impVol2\n",
    "        self.impVol3 = impVol3\n",
    "        self.impVol4 = impVol4"
   ]
  },
  {
   "cell_type": "code",
   "execution_count": 3,
   "metadata": {
    "collapsed": true
   },
   "outputs": [],
   "source": [
    "class volStrategy(Strategy):\n",
    "    \n",
    "    def __init__(self, stype):\n",
    "        self.ftype = stype\n",
    "\n",
    "    def straddle(underPrice, Strike, days, impVol):\n",
    "        leg = mibian.BS([underPrice, Strike, Strategy.interestRate, days], volatility = impVol)\n",
    "        return leg.callPrice + leg.putPrice\n",
    "\n",
    "    def strangle(underPrice, Strike1, Strike2, days, impVol1, impVol2):\n",
    "        leg1 = mibian.BS([underPrice, Strike1, Strategy.interestRate, days], volatility = impVol1)\n",
    "        leg2 = mibian.BS([underPrice, Strike2, Strategy.interestRate, days], volatility = impVol2)\n",
    "        if Strike1 >= Strike2:\n",
    "            return leg1.callPrice + leg2.putPrice\n",
    "        else:\n",
    "            return leg1.putPrice + leg2.callPrice"
   ]
  },
  {
   "cell_type": "code",
   "execution_count": 4,
   "metadata": {
    "collapsed": false
   },
   "outputs": [],
   "source": [
    "class statStrategy(Strategy):\n",
    "    \n",
    "    def __init__(self, stype):\n",
    "        self.ftype = stype\n",
    "    \n",
    "    def leverage():\n",
    "        return self - (Strategy.Strike1 - Strategy.Strike2) \n",
    "                \n",
    "        "
   ]
  },
  {
   "cell_type": "code",
   "execution_count": 5,
   "metadata": {
    "collapsed": true
   },
   "outputs": [],
   "source": [
    "class spread(statStrategy):\n",
    "    \n",
    "    def __init__(self, ftype):\n",
    "        self.ftype = ftype\n",
    "        \n",
    "    def callSpread(underPrice, Strike1, Strike2, days, impVol1, impVol2):\n",
    "        leg1 = mibian.BS([underPrice, Strike1, Strategy.interestRate, days], volatility = impVol1)\n",
    "        leg2 = mibian.BS([underPrice, Strike2, Strategy.interestRate, days], volatility = impVol2)\n",
    "        return abs(leg1.callPrice - leg2.callPrice)\n",
    "    \n",
    "    def putSpread(underPrice, Strike1, Strike2, days, impVol1, impVol2):\n",
    "        leg1 = mibian.BS([underPrice, Strike1, Strategy.interestRate, days], volatility = impVol1)\n",
    "        leg2 = mibian.BS([underPrice, Strike2, Strategy.interestRate, days], volatility = impVol2)\n",
    "        return abs(leg1.putPrice - leg2.putPrice)"
   ]
  },
  {
   "cell_type": "code",
   "execution_count": 6,
   "metadata": {
    "collapsed": false
   },
   "outputs": [],
   "source": [
    "class fly(statStrategy):\n",
    "\n",
    "    def __init__(self, ftype):\n",
    "        self.ftype = ftype       \n",
    "            \n",
    "    def atmFly(underPrice, Strike1, Strike2, Strike3, days, impVol1, impVol2, impVol3):\n",
    "        \n",
    "        leg1 = mibian.BS([underPrice, Strike1, Strategy.interestRate, days], volatility = impVol1)\n",
    "        leg2 = mibian.BS([underPrice, Strike2, Strategy.interestRate, days], volatility = impVol2)\n",
    "        leg3 = mibian.BS([underPrice, Strike3, Strategy.interestRate, days], volatility = impVol3)\n",
    "        \n",
    "        if Strike1 >= Strike3:\n",
    "            return leg1.callPrice + leg3.putPrice - (leg2.callPrice + leg2.putPrice)\n",
    "        else:\n",
    "            return leg1.putPrice + leg3.callPrice - (leg2.callPrice + leg2.putPrice)\n",
    "        \n",
    "    def callFly(underPrice, Strike1, Strike2, Strike3, days, impVol1, impVol2, impVol3):\n",
    "    \n",
    "        leg1 = mibian.BS([underPrice, Strike1, Strategy.interestRate, days], volatility = impVol1)\n",
    "        leg2 = mibian.BS([underPrice, Strike2, Strategy.interestRate, days], volatility = impVol2)\n",
    "        leg3 = mibian.BS([underPrice, Strike3, Strategy.interestRate, days], volatility = impVol3)\n",
    "        \n",
    "        return leg1.callPrice + leg3.callPrice - 2*leg2.callPrice\n",
    "    \n",
    "    def putFly(underPrice, Strike1, Strike2, Strike3, days, impVol1, impVol2, impVol3):\n",
    "    \n",
    "        leg1 = mibian.BS([underPrice, Strike1, Strategy.interestRate, days], volatility = impVol1)\n",
    "        leg2 = mibian.BS([underPrice, Strike2, Strategy.interestRate, days], volatility = impVol2)\n",
    "        leg3 = mibian.BS([underPrice, Strike3, Strategy.interestRate, days], volatility = impVol3)\n",
    "        \n",
    "        return leg1.putPrice + leg3.putPrice - 2*leg2.putPrice       \n",
    "    "
   ]
  },
  {
   "cell_type": "code",
   "execution_count": 7,
   "metadata": {
    "collapsed": false
   },
   "outputs": [],
   "source": [
    "class condor(statStrategy):\n",
    "    \n",
    "    def __init__(self, ftype):\n",
    "        self.ftype = ftype       \n",
    "            \n",
    "    def atmCondor(underPrice, Strike1, Strike2, Strike3, Strike4, \n",
    "             days, impVol1, impVol2, impVol3, impVol4):\n",
    "        \n",
    "        return volStrategy.strangle(underPrice, Strike1, Strike4, days, impVol1,\n",
    "                                    impVol4) - volStrategy.strangle(underPrice, Strike2, Strike3, \n",
    "                                                                    days, impVol2, impVol3) \n",
    "        \n",
    "    def callCondor(underPrice, Strike1, Strike2, Strike3, Strike4, \n",
    "                   days, impVol1, impVol2, impVol3, impVol4):\n",
    "    \n",
    "        leg1 = mibian.BS([underPrice, Strike1, Strategy.interestRate, days], volatility = impVol1)\n",
    "        leg2 = mibian.BS([underPrice, Strike2, Strategy.interestRate, days], volatility = impVol2)\n",
    "        leg3 = mibian.BS([underPrice, Strike3, Strategy.interestRate, days], volatility = impVol3)\n",
    "        leg4 = mibian.BS([underPrice, Strike4, Strategy.interestRate, days], volatility = impVol4)\n",
    "        \n",
    "        return leg1.callPrice + leg3.callPrice - leg2.callPrice - leg4.callPrice\n",
    "    \n",
    "    def putCondor(underPrice, Strike1, Strike2, Strike3, Strike4, \n",
    "                  days, impVol1, impVol2, impVol3, impVol4):\n",
    "    \n",
    "        leg1 = mibian.BS([underPrice, Strike1, Strategy.interestRate, days], volatility = impVol1)\n",
    "        leg2 = mibian.BS([underPrice, Strike2, Strategy.interestRate, days], volatility = impVol2)\n",
    "        leg3 = mibian.BS([underPrice, Strike3, Strategy.interestRate, days], volatility = impVol3)\n",
    "        leg4 = mibian.BS([underPrice, Strike4, Strategy.interestRate, days], volatility = impVol4)\n",
    "        \n",
    "        return leg1.putPrice + leg3.putPrice - leg2.putPrice - leg4.putPrice"
   ]
  },
  {
   "cell_type": "code",
   "execution_count": 8,
   "metadata": {
    "collapsed": true
   },
   "outputs": [],
   "source": [
    "import pandas as pd\n",
    "import numpy as np\n",
    "import random\n",
    "\n",
    "#monte carlo price simulation function\n",
    "def monte_carlo_price_sim(price, ndays, nreps, plong, pshort, maglong, magshort):\n",
    "    \n",
    "    #initial transformations and base matrix creation\n",
    "    maglong_cents = price/100*maglong\n",
    "    magshort_cents = -price/100*magshort\n",
    "    nmatrix = (ndays, nreps)\n",
    "    simarray = np.ones(nmatrix)\n",
    "        \n",
    "    #simulation of price changes\n",
    "    for i in range(ndays):\n",
    "        for n in range(nreps):\n",
    "            simarray[i, n] = random.random()\n",
    "            if simarray[i, n] >= plong:\n",
    "                simarray[i, n] = random.gauss(maglong_cents, 0.8)\n",
    "            elif simarray[i, n] <= pshort:\n",
    "                simarray[i, n] = random.gauss(magshort_cents, 0.8) \n",
    "            else:\n",
    "                simarray[i, n] = 0\n",
    "    \n",
    "    #setting initial price and summing over the progression of days    \n",
    "    simarray[0] = price\n",
    "    \n",
    "    for i in range(nreps):\n",
    "        simarray[:,i] = np.cumsum(simarray[:,i])\n",
    "        \n",
    "    # transformation into a pandas dataframe and generation of labels\n",
    "    colnames = []\n",
    "    rownames = []\n",
    "    \n",
    "    for i in range(nreps):\n",
    "        colnames.append(\"rep\" + str(i+1))\n",
    "    for i in range(ndays):\n",
    "        rownames.append(\"day\" + str(i+1))\n",
    "    \n",
    "    simprices = pd.DataFrame(simarray, columns=colnames, index=rownames)\n",
    "    #output    \n",
    "    return simprices"
   ]
  },
  {
   "cell_type": "code",
   "execution_count": 9,
   "metadata": {
    "collapsed": false
   },
   "outputs": [],
   "source": [
    "import matplotlib.pyplot as plt\n",
    "%matplotlib inline"
   ]
  },
  {
   "cell_type": "code",
   "execution_count": 10,
   "metadata": {
    "collapsed": false
   },
   "outputs": [],
   "source": [
    "def straddle(underPrice, Strike, days, impVol):\n",
    "    leg = mibian.BS([underPrice, Strike, Strategy.interestRate, days], volatility = impVol)\n",
    "    return leg.callPrice + leg.putPrice\n",
    "\n",
    "price = 356\n",
    "ndays = 31\n",
    "nreps = 100\n",
    "plong = 0.49\n",
    "pshort = 0.49\n",
    "maglong = 1.0\n",
    "magshort = 1.0\n",
    "\n",
    "x = monte_carlo_price_sim(price, ndays, nreps, plong, pshort, maglong, magshort)\n",
    "\n",
    "z = (ndays, nreps)\n",
    "w = np.ones(z)\n",
    "y = np.ones(z)\n",
    "           \n",
    "for i in range(ndays):\n",
    "    y[i] = x.ix[i]\n",
    "    for n in range(nreps):\n",
    "        w[i, n] = straddle(y[i, n], 355, (ndays-i), 16.00)\n",
    "\n",
    "w = pd.DataFrame(w)"
   ]
  },
  {
   "cell_type": "code",
   "execution_count": 11,
   "metadata": {
    "collapsed": false
   },
   "outputs": [
    {
     "data": {
      "text/plain": [
       "16.300637311909586"
      ]
     },
     "execution_count": 11,
     "metadata": {},
     "output_type": "execute_result"
    }
   ],
   "source": [
    "w.ix[30].mean()"
   ]
  },
  {
   "cell_type": "code",
   "execution_count": 12,
   "metadata": {
    "collapsed": false
   },
   "outputs": [
    {
     "data": {
      "text/plain": [
       "(array([ 51.,  11.,  16.,   5.,   4.,   5.,   5.,   1.,   1.,   1.]),\n",
       " array([ 12.76502217,  13.07587378,  13.3867254 ,  13.69757701,\n",
       "         14.00842863,  14.31928024,  14.63013186,  14.94098347,\n",
       "         15.25183509,  15.5626867 ,  15.87353832]),\n",
       " <a list of 10 Patch objects>)"
      ]
     },
     "execution_count": 12,
     "metadata": {},
     "output_type": "execute_result"
    },
    {
     "data": {
      "image/png": "[encoded data removed]",
      "text/plain": [
       "<matplotlib.figure.Figure at 0x7f548261fac8>"
      ]
     },
     "metadata": {},
     "output_type": "display_data"
    }
   ],
   "source": [
    "plt.hist(w.ix[2])"
   ]
  },
  {
   "cell_type": "code",
   "execution_count": 13,
   "metadata": {
    "collapsed": false
   },
   "outputs": [],
   "source": [
    "wF = np.ones(z)\n",
    "           \n",
    "for i in range(ndays):\n",
    "    y[i] = x.ix[i]\n",
    "    for n in range(nreps):\n",
    "        wF[i, n] = spread.putSpread(y[i, n], 350, 340, (ndays-i), 16.9, 17.8)\n",
    "\n",
    "wF = pd.DataFrame(wF)"
   ]
  },
  {
   "cell_type": "code",
   "execution_count": 14,
   "metadata": {
    "collapsed": false
   },
   "outputs": [
    {
     "data": {
      "text/plain": [
       "2.0529069993994393"
      ]
     },
     "execution_count": 14,
     "metadata": {},
     "output_type": "execute_result"
    }
   ],
   "source": [
    "wF.ix[ndays-1].mean()"
   ]
  },
  {
   "cell_type": "code",
   "execution_count": 15,
   "metadata": {
    "collapsed": false
   },
   "outputs": [
    {
     "data": {
      "text/plain": [
       "(array([ 70.,   2.,   3.,   3.,   2.,   2.,   3.,   2.,   1.,  12.]),\n",
       " array([  1.13183643e-61,   9.99986301e-01,   1.99997260e+00,\n",
       "          2.99995890e+00,   3.99994521e+00,   4.99993151e+00,\n",
       "          5.99991781e+00,   6.99990411e+00,   7.99989041e+00,\n",
       "          8.99987671e+00,   9.99986301e+00]),\n",
       " <a list of 10 Patch objects>)"
      ]
     },
     "execution_count": 15,
     "metadata": {},
     "output_type": "execute_result"
    },
    {
     "data": {
      "image/png": "[encoded data removed]",
      "text/plain": [
       "<matplotlib.figure.Figure at 0x7f5480337908>"
      ]
     },
     "metadata": {},
     "output_type": "display_data"
    }
   ],
   "source": [
    "plt.hist(wF.ix[30])"
   ]
  },
  {
   "cell_type": "code",
   "execution_count": 16,
   "metadata": {
    "collapsed": true
   },
   "outputs": [],
   "source": [
    "wwF = np.ones(z)\n",
    "for i in range(ndays):\n",
    "    y[i] = x.ix[i]\n",
    "    for n in range(nreps):\n",
    "        wwF[i, n] = fly.putFly(y[i, n], 350, 340, 330, (ndays-i), 16.8, 17.5, 18.5)\n",
    "\n",
    "wwF = pd.DataFrame(wwF)"
   ]
  },
  {
   "cell_type": "code",
   "execution_count": 17,
   "metadata": {
    "collapsed": false
   },
   "outputs": [
    {
     "data": {
      "text/plain": [
       "1.0598488705593931"
      ]
     },
     "execution_count": 17,
     "metadata": {},
     "output_type": "execute_result"
    }
   ],
   "source": [
    "wwF.ix[ndays-1].mean()"
   ]
  },
  {
   "cell_type": "code",
   "execution_count": null,
   "metadata": {
    "collapsed": true
   },
   "outputs": [],
   "source": []
  }
 ],
 "metadata": {
  "anaconda-cloud": {},
  "kernelspec": {
   "display_name": "Python [conda root]",
   "language": "python",
   "name": "conda-root-py"
  },
  "language_info": {
   "codemirror_mode": {
    "name": "ipython",
    "version": 3
   },
   "file_extension": ".py",
   "mimetype": "text/x-python",
   "name": "python",
   "nbconvert_exporter": "python",
   "pygments_lexer": "ipython3",
   "version": "3.5.2"
  }
 },
 "nbformat": 4,
 "nbformat_minor": 1
}
